{
 "cells": [
  {
   "cell_type": "code",
   "execution_count": 1,
   "metadata": {},
   "outputs": [],
   "source": [
    "import pandas as pd\n",
    "import numpy as np"
   ]
  },
  {
   "cell_type": "code",
   "execution_count": 2,
   "metadata": {},
   "outputs": [],
   "source": [
    "# Load datasets\n",
    "client_info = pd.read_csv(r\"C:\\Users\\ttmai\\github\\2022_datathon_team_2\\data\\client_info_anonymized.csv\")\n",
    "care_mgmt = pd.read_csv(r\"C:\\Users\\ttmai\\github\\2022_datathon_team_2\\data\\care_management_anonymized.csv\")\n",
    "volunteer_services = pd.read_csv(r\"C:\\Users\\ttmai\\github\\2022_datathon_team_2\\data\\volunteer_services_anonymized.csv\")\n",
    "pantry = pd.read_csv(r\"C:\\Users\\ttmai\\github\\2022_datathon_team_2\\data\\pantry_anonymized.csv\")\n",
    "donations = pd.read_csv(r\"C:\\Users\\ttmai\\github\\2022_datathon_team_2\\data\\donations_anonymized.csv\")"
   ]
  },
  {
   "cell_type": "markdown",
   "metadata": {},
   "source": [
    "# Explore client info"
   ]
  },
  {
   "cell_type": "code",
   "execution_count": 3,
   "metadata": {},
   "outputs": [
    {
     "name": "stdout",
     "output_type": "stream",
     "text": [
      "   anon_ID      county poverty minority age_group\n",
      "0        1  Montgomery      No      NaN         P\n",
      "1        2  Montgomery      No       No         D\n",
      "2        3  Montgomery      No       No         P\n",
      "3        5  Montgomery      No      NaN         G\n",
      "4        6  Montgomery     Yes      NaN       NaN\n",
      "anon_ID      641\n",
      "county       641\n",
      "poverty      601\n",
      "minority     156\n",
      "age_group    424\n",
      "dtype: int64\n",
      "<class 'pandas.core.frame.DataFrame'>\n",
      "RangeIndex: 641 entries, 0 to 640\n",
      "Data columns (total 5 columns):\n",
      " #   Column     Non-Null Count  Dtype \n",
      "---  ------     --------------  ----- \n",
      " 0   anon_ID    641 non-null    int64 \n",
      " 1   county     641 non-null    object\n",
      " 2   poverty    601 non-null    object\n",
      " 3   minority   156 non-null    object\n",
      " 4   age_group  424 non-null    object\n",
      "dtypes: int64(1), object(4)\n",
      "memory usage: 25.2+ KB\n",
      "None\n"
     ]
    }
   ],
   "source": [
    "# Get overview\n",
    "print(client_info.head())\n",
    "print(client_info.count())\n",
    "print(client_info.info())"
   ]
  },
  {
   "cell_type": "code",
   "execution_count": 4,
   "metadata": {},
   "outputs": [
    {
     "name": "stdout",
     "output_type": "stream",
     "text": [
      "            anon_ID  poverty  minority  age_group\n",
      "county                                           \n",
      "Montgomery      601      601       118        424\n",
      "Other            40        0        38          0\n",
      "         anon_ID  county  minority  age_group\n",
      "poverty                                      \n",
      "No           215     215        52        192\n",
      "Yes          386     386        66        232\n",
      "          anon_ID  county  poverty  age_group\n",
      "minority                                     \n",
      "No            108     108       76         73\n",
      "Yes            48      48       42         40\n",
      "           anon_ID  county  poverty  minority\n",
      "age_group                                    \n",
      "D               95      95       95        36\n",
      "G              174     174      174        18\n",
      "P               64      64       64        29\n",
      "T               91      91       91        30\n"
     ]
    }
   ],
   "source": [
    "# Distribution by each category provided in dataset\n",
    "for c in client_info.columns[1:]:\n",
    "    print(client_info.groupby(c).count())"
   ]
  },
  {
   "cell_type": "code",
   "execution_count": 5,
   "metadata": {},
   "outputs": [
    {
     "data": {
      "text/html": [
       "<div>\n",
       "<style scoped>\n",
       "    .dataframe tbody tr th:only-of-type {\n",
       "        vertical-align: middle;\n",
       "    }\n",
       "\n",
       "    .dataframe tbody tr th {\n",
       "        vertical-align: top;\n",
       "    }\n",
       "\n",
       "    .dataframe thead th {\n",
       "        text-align: right;\n",
       "    }\n",
       "</style>\n",
       "<table border=\"1\" class=\"dataframe\">\n",
       "  <thead>\n",
       "    <tr style=\"text-align: right;\">\n",
       "      <th></th>\n",
       "      <th></th>\n",
       "      <th>anon_ID</th>\n",
       "      <th>county</th>\n",
       "      <th>age_group</th>\n",
       "    </tr>\n",
       "    <tr>\n",
       "      <th>poverty</th>\n",
       "      <th>minority</th>\n",
       "      <th></th>\n",
       "      <th></th>\n",
       "      <th></th>\n",
       "    </tr>\n",
       "  </thead>\n",
       "  <tbody>\n",
       "    <tr>\n",
       "      <th rowspan=\"2\" valign=\"top\">No</th>\n",
       "      <th>No</th>\n",
       "      <td>42</td>\n",
       "      <td>42</td>\n",
       "      <td>42</td>\n",
       "    </tr>\n",
       "    <tr>\n",
       "      <th>Yes</th>\n",
       "      <td>10</td>\n",
       "      <td>10</td>\n",
       "      <td>9</td>\n",
       "    </tr>\n",
       "    <tr>\n",
       "      <th rowspan=\"2\" valign=\"top\">Yes</th>\n",
       "      <th>No</th>\n",
       "      <td>34</td>\n",
       "      <td>34</td>\n",
       "      <td>31</td>\n",
       "    </tr>\n",
       "    <tr>\n",
       "      <th>Yes</th>\n",
       "      <td>32</td>\n",
       "      <td>32</td>\n",
       "      <td>31</td>\n",
       "    </tr>\n",
       "  </tbody>\n",
       "</table>\n",
       "</div>"
      ],
      "text/plain": [
       "                  anon_ID  county  age_group\n",
       "poverty minority                            \n",
       "No      No             42      42         42\n",
       "        Yes            10      10          9\n",
       "Yes     No             34      34         31\n",
       "        Yes            32      32         31"
      ]
     },
     "execution_count": 5,
     "metadata": {},
     "output_type": "execute_result"
    }
   ],
   "source": [
    "# Any relationship between poverty and minority?\n",
    "client_info.groupby(['poverty', 'minority']).count()"
   ]
  },
  {
   "cell_type": "markdown",
   "metadata": {},
   "source": [
    "## Some observations from reviewing client data:\n",
    "- The only county identified in this dataset is Montgomery. 93% clients come from this county.\n",
    "- More clients have poverty flag than not (64%). A small volume of clients do not have poverty flag populated.\n",
    "- There's a lot of missing data under the minority field. Will likely not use this field for future analyses.\n",
    "- There are 4 age groups (5 if include 1 category with missing data on age). Not sure how I will leverage this field for future analyses."
   ]
  },
  {
   "cell_type": "markdown",
   "metadata": {},
   "source": [
    "# Explore care management data"
   ]
  },
  {
   "cell_type": "code",
   "execution_count": 6,
   "metadata": {},
   "outputs": [
    {
     "data": {
      "text/html": [
       "<div>\n",
       "<style scoped>\n",
       "    .dataframe tbody tr th:only-of-type {\n",
       "        vertical-align: middle;\n",
       "    }\n",
       "\n",
       "    .dataframe tbody tr th {\n",
       "        vertical-align: top;\n",
       "    }\n",
       "\n",
       "    .dataframe thead th {\n",
       "        text-align: right;\n",
       "    }\n",
       "</style>\n",
       "<table border=\"1\" class=\"dataframe\">\n",
       "  <thead>\n",
       "    <tr style=\"text-align: right;\">\n",
       "      <th></th>\n",
       "      <th>anon_ID</th>\n",
       "      <th>assistance_date</th>\n",
       "      <th>assistance_category</th>\n",
       "      <th>amount</th>\n",
       "      <th>unit</th>\n",
       "      <th>CommType</th>\n",
       "      <th>Party</th>\n",
       "      <th>InitiatedBy</th>\n",
       "      <th>Benefit_1</th>\n",
       "      <th>Assistance_1</th>\n",
       "      <th>Benefit_2</th>\n",
       "      <th>Assistance_2</th>\n",
       "      <th>Benefit_3</th>\n",
       "      <th>Assistance_3</th>\n",
       "    </tr>\n",
       "  </thead>\n",
       "  <tbody>\n",
       "    <tr>\n",
       "      <th>0</th>\n",
       "      <td>531</td>\n",
       "      <td>2019-01-01 12:50:00</td>\n",
       "      <td>Remote Contact with client (phone, email)</td>\n",
       "      <td>2.0</td>\n",
       "      <td>Minutes</td>\n",
       "      <td>NaN</td>\n",
       "      <td>NaN</td>\n",
       "      <td>NaN</td>\n",
       "      <td>NaN</td>\n",
       "      <td>NaN</td>\n",
       "      <td>NaN</td>\n",
       "      <td>NaN</td>\n",
       "      <td>NaN</td>\n",
       "      <td>NaN</td>\n",
       "    </tr>\n",
       "    <tr>\n",
       "      <th>1</th>\n",
       "      <td>531</td>\n",
       "      <td>2019-01-02 07:30:00</td>\n",
       "      <td>Remote Contact with client (phone, email)</td>\n",
       "      <td>2.0</td>\n",
       "      <td>Minutes</td>\n",
       "      <td>NaN</td>\n",
       "      <td>NaN</td>\n",
       "      <td>NaN</td>\n",
       "      <td>NaN</td>\n",
       "      <td>NaN</td>\n",
       "      <td>NaN</td>\n",
       "      <td>NaN</td>\n",
       "      <td>NaN</td>\n",
       "      <td>NaN</td>\n",
       "    </tr>\n",
       "    <tr>\n",
       "      <th>2</th>\n",
       "      <td>581</td>\n",
       "      <td>2019-01-02 09:50:00</td>\n",
       "      <td>Remote Contact with client (phone, email)</td>\n",
       "      <td>14.0</td>\n",
       "      <td>Minutes</td>\n",
       "      <td>NaN</td>\n",
       "      <td>NaN</td>\n",
       "      <td>NaN</td>\n",
       "      <td>NaN</td>\n",
       "      <td>NaN</td>\n",
       "      <td>NaN</td>\n",
       "      <td>NaN</td>\n",
       "      <td>NaN</td>\n",
       "      <td>NaN</td>\n",
       "    </tr>\n",
       "    <tr>\n",
       "      <th>3</th>\n",
       "      <td>337</td>\n",
       "      <td>2019-01-02 10:10:00</td>\n",
       "      <td>Remote Contact with client (phone, email)</td>\n",
       "      <td>1.0</td>\n",
       "      <td>Minutes</td>\n",
       "      <td>NaN</td>\n",
       "      <td>NaN</td>\n",
       "      <td>NaN</td>\n",
       "      <td>NaN</td>\n",
       "      <td>NaN</td>\n",
       "      <td>NaN</td>\n",
       "      <td>NaN</td>\n",
       "      <td>NaN</td>\n",
       "      <td>NaN</td>\n",
       "    </tr>\n",
       "    <tr>\n",
       "      <th>4</th>\n",
       "      <td>254</td>\n",
       "      <td>2019-01-02 10:15:00</td>\n",
       "      <td>Remote Contact with client (phone, email)</td>\n",
       "      <td>1.0</td>\n",
       "      <td>Minutes</td>\n",
       "      <td>NaN</td>\n",
       "      <td>NaN</td>\n",
       "      <td>NaN</td>\n",
       "      <td>NaN</td>\n",
       "      <td>NaN</td>\n",
       "      <td>NaN</td>\n",
       "      <td>NaN</td>\n",
       "      <td>NaN</td>\n",
       "      <td>NaN</td>\n",
       "    </tr>\n",
       "  </tbody>\n",
       "</table>\n",
       "</div>"
      ],
      "text/plain": [
       "   anon_ID      assistance_date                        assistance_category  \\\n",
       "0      531  2019-01-01 12:50:00  Remote Contact with client (phone, email)   \n",
       "1      531  2019-01-02 07:30:00  Remote Contact with client (phone, email)   \n",
       "2      581  2019-01-02 09:50:00  Remote Contact with client (phone, email)   \n",
       "3      337  2019-01-02 10:10:00  Remote Contact with client (phone, email)   \n",
       "4      254  2019-01-02 10:15:00  Remote Contact with client (phone, email)   \n",
       "\n",
       "   amount     unit CommType Party InitiatedBy Benefit_1 Assistance_1  \\\n",
       "0     2.0  Minutes      NaN   NaN         NaN       NaN          NaN   \n",
       "1     2.0  Minutes      NaN   NaN         NaN       NaN          NaN   \n",
       "2    14.0  Minutes      NaN   NaN         NaN       NaN          NaN   \n",
       "3     1.0  Minutes      NaN   NaN         NaN       NaN          NaN   \n",
       "4     1.0  Minutes      NaN   NaN         NaN       NaN          NaN   \n",
       "\n",
       "  Benefit_2 Assistance_2 Benefit_3 Assistance_3  \n",
       "0       NaN          NaN       NaN          NaN  \n",
       "1       NaN          NaN       NaN          NaN  \n",
       "2       NaN          NaN       NaN          NaN  \n",
       "3       NaN          NaN       NaN          NaN  \n",
       "4       NaN          NaN       NaN          NaN  "
      ]
     },
     "execution_count": 6,
     "metadata": {},
     "output_type": "execute_result"
    }
   ],
   "source": [
    "# Get overview\n",
    "care_mgmt.head()\n",
    "# print()\n",
    "# print()"
   ]
  },
  {
   "cell_type": "code",
   "execution_count": 7,
   "metadata": {},
   "outputs": [
    {
     "data": {
      "text/plain": [
       "anon_ID                12487\n",
       "assistance_date        12487\n",
       "assistance_category    12487\n",
       "amount                 12487\n",
       "unit                   12487\n",
       "CommType                4668\n",
       "Party                   4675\n",
       "InitiatedBy             4645\n",
       "Benefit_1               4060\n",
       "Assistance_1            4126\n",
       "Benefit_2                591\n",
       "Assistance_2             588\n",
       "Benefit_3                 84\n",
       "Assistance_3              83\n",
       "dtype: int64"
      ]
     },
     "execution_count": 7,
     "metadata": {},
     "output_type": "execute_result"
    }
   ],
   "source": [
    "care_mgmt.count()"
   ]
  },
  {
   "cell_type": "code",
   "execution_count": 8,
   "metadata": {},
   "outputs": [
    {
     "name": "stdout",
     "output_type": "stream",
     "text": [
      "<class 'pandas.core.frame.DataFrame'>\n",
      "RangeIndex: 12487 entries, 0 to 12486\n",
      "Data columns (total 14 columns):\n",
      " #   Column               Non-Null Count  Dtype  \n",
      "---  ------               --------------  -----  \n",
      " 0   anon_ID              12487 non-null  int64  \n",
      " 1   assistance_date      12487 non-null  object \n",
      " 2   assistance_category  12487 non-null  object \n",
      " 3   amount               12487 non-null  float64\n",
      " 4   unit                 12487 non-null  object \n",
      " 5   CommType             4668 non-null   object \n",
      " 6   Party                4675 non-null   object \n",
      " 7   InitiatedBy          4645 non-null   object \n",
      " 8   Benefit_1            4060 non-null   object \n",
      " 9   Assistance_1         4126 non-null   object \n",
      " 10  Benefit_2            591 non-null    object \n",
      " 11  Assistance_2         588 non-null    object \n",
      " 12  Benefit_3            84 non-null     object \n",
      " 13  Assistance_3         83 non-null     object \n",
      "dtypes: float64(1), int64(1), object(12)\n",
      "memory usage: 1.3+ MB\n"
     ]
    }
   ],
   "source": [
    "care_mgmt.info()"
   ]
  },
  {
   "cell_type": "code",
   "execution_count": 9,
   "metadata": {},
   "outputs": [
    {
     "data": {
      "text/plain": [
       "(12487, 14)"
      ]
     },
     "execution_count": 9,
     "metadata": {},
     "output_type": "execute_result"
    }
   ],
   "source": [
    "# Data cleaning\n",
    "care_mgmt['assistance_date'] = pd.to_datetime(care_mgmt['assistance_date'])\n",
    "care_mgmt.shape"
   ]
  },
  {
   "cell_type": "code",
   "execution_count": 10,
   "metadata": {},
   "outputs": [
    {
     "name": "stdout",
     "output_type": "stream",
     "text": [
      "First date in dataset:  2019-01-01 12:50:00\n",
      "Last date in dataset:  2021-09-15 18:05:00\n",
      "Number of clients receiving care management:  490\n",
      "Average number of interactions each client has:  25.483673469387757\n"
     ]
    }
   ],
   "source": [
    "print('First date in dataset: ', care_mgmt['assistance_date'].min())\n",
    "print('Last date in dataset: ', care_mgmt['assistance_date'].max())\n",
    "print('Number of clients receiving care management: ', care_mgmt['anon_ID'].nunique())\n",
    "print('Average number of interactions each client has: ', care_mgmt.shape[0]/care_mgmt['anon_ID'].nunique())"
   ]
  },
  {
   "cell_type": "code",
   "execution_count": 11,
   "metadata": {},
   "outputs": [
    {
     "data": {
      "text/html": [
       "<div>\n",
       "<style scoped>\n",
       "    .dataframe tbody tr th:only-of-type {\n",
       "        vertical-align: middle;\n",
       "    }\n",
       "\n",
       "    .dataframe tbody tr th {\n",
       "        vertical-align: top;\n",
       "    }\n",
       "\n",
       "    .dataframe thead th {\n",
       "        text-align: right;\n",
       "    }\n",
       "</style>\n",
       "<table border=\"1\" class=\"dataframe\">\n",
       "  <thead>\n",
       "    <tr style=\"text-align: right;\">\n",
       "      <th></th>\n",
       "      <th></th>\n",
       "      <th>anon_ID</th>\n",
       "      <th>assistance_date</th>\n",
       "      <th>amount</th>\n",
       "      <th>CommType</th>\n",
       "      <th>Party</th>\n",
       "      <th>InitiatedBy</th>\n",
       "      <th>Benefit_1</th>\n",
       "      <th>Assistance_1</th>\n",
       "      <th>Benefit_2</th>\n",
       "      <th>Assistance_2</th>\n",
       "      <th>Benefit_3</th>\n",
       "      <th>Assistance_3</th>\n",
       "    </tr>\n",
       "    <tr>\n",
       "      <th>assistance_category</th>\n",
       "      <th>unit</th>\n",
       "      <th></th>\n",
       "      <th></th>\n",
       "      <th></th>\n",
       "      <th></th>\n",
       "      <th></th>\n",
       "      <th></th>\n",
       "      <th></th>\n",
       "      <th></th>\n",
       "      <th></th>\n",
       "      <th></th>\n",
       "      <th></th>\n",
       "      <th></th>\n",
       "    </tr>\n",
       "  </thead>\n",
       "  <tbody>\n",
       "    <tr>\n",
       "      <th>Community</th>\n",
       "      <th>Minutes</th>\n",
       "      <td>757</td>\n",
       "      <td>757</td>\n",
       "      <td>757</td>\n",
       "      <td>100</td>\n",
       "      <td>101</td>\n",
       "      <td>90</td>\n",
       "      <td>96</td>\n",
       "      <td>99</td>\n",
       "      <td>27</td>\n",
       "      <td>27</td>\n",
       "      <td>6</td>\n",
       "      <td>6</td>\n",
       "    </tr>\n",
       "    <tr>\n",
       "      <th>ElderNet Office</th>\n",
       "      <th>Minutes</th>\n",
       "      <td>47</td>\n",
       "      <td>47</td>\n",
       "      <td>47</td>\n",
       "      <td>2</td>\n",
       "      <td>2</td>\n",
       "      <td>2</td>\n",
       "      <td>2</td>\n",
       "      <td>2</td>\n",
       "      <td>0</td>\n",
       "      <td>0</td>\n",
       "      <td>0</td>\n",
       "      <td>0</td>\n",
       "    </tr>\n",
       "    <tr>\n",
       "      <th>Home Visit</th>\n",
       "      <th>Minutes</th>\n",
       "      <td>766</td>\n",
       "      <td>766</td>\n",
       "      <td>766</td>\n",
       "      <td>24</td>\n",
       "      <td>24</td>\n",
       "      <td>15</td>\n",
       "      <td>22</td>\n",
       "      <td>24</td>\n",
       "      <td>6</td>\n",
       "      <td>6</td>\n",
       "      <td>2</td>\n",
       "      <td>2</td>\n",
       "    </tr>\n",
       "    <tr>\n",
       "      <th rowspan=\"3\" valign=\"top\">Internal Discussions</th>\n",
       "      <th>Dollars</th>\n",
       "      <td>10</td>\n",
       "      <td>10</td>\n",
       "      <td>10</td>\n",
       "      <td>7</td>\n",
       "      <td>8</td>\n",
       "      <td>8</td>\n",
       "      <td>8</td>\n",
       "      <td>8</td>\n",
       "      <td>1</td>\n",
       "      <td>1</td>\n",
       "      <td>0</td>\n",
       "      <td>0</td>\n",
       "    </tr>\n",
       "    <tr>\n",
       "      <th>Minutes</th>\n",
       "      <td>222</td>\n",
       "      <td>222</td>\n",
       "      <td>222</td>\n",
       "      <td>149</td>\n",
       "      <td>168</td>\n",
       "      <td>169</td>\n",
       "      <td>157</td>\n",
       "      <td>158</td>\n",
       "      <td>16</td>\n",
       "      <td>15</td>\n",
       "      <td>1</td>\n",
       "      <td>1</td>\n",
       "    </tr>\n",
       "    <tr>\n",
       "      <th>Pounds</th>\n",
       "      <td>1</td>\n",
       "      <td>1</td>\n",
       "      <td>1</td>\n",
       "      <td>1</td>\n",
       "      <td>1</td>\n",
       "      <td>1</td>\n",
       "      <td>1</td>\n",
       "      <td>1</td>\n",
       "      <td>0</td>\n",
       "      <td>0</td>\n",
       "      <td>0</td>\n",
       "      <td>0</td>\n",
       "    </tr>\n",
       "    <tr>\n",
       "      <th>Remote Contact w/o client</th>\n",
       "      <th>Minutes</th>\n",
       "      <td>1948</td>\n",
       "      <td>1948</td>\n",
       "      <td>1948</td>\n",
       "      <td>1220</td>\n",
       "      <td>1202</td>\n",
       "      <td>1212</td>\n",
       "      <td>1031</td>\n",
       "      <td>1064</td>\n",
       "      <td>76</td>\n",
       "      <td>75</td>\n",
       "      <td>4</td>\n",
       "      <td>4</td>\n",
       "    </tr>\n",
       "    <tr>\n",
       "      <th rowspan=\"2\" valign=\"top\">Remote Contact with client (phone, email)</th>\n",
       "      <th>Minutes</th>\n",
       "      <td>8735</td>\n",
       "      <td>8735</td>\n",
       "      <td>8735</td>\n",
       "      <td>3165</td>\n",
       "      <td>3169</td>\n",
       "      <td>3148</td>\n",
       "      <td>2743</td>\n",
       "      <td>2770</td>\n",
       "      <td>465</td>\n",
       "      <td>464</td>\n",
       "      <td>71</td>\n",
       "      <td>70</td>\n",
       "    </tr>\n",
       "    <tr>\n",
       "      <th>Pounds</th>\n",
       "      <td>1</td>\n",
       "      <td>1</td>\n",
       "      <td>1</td>\n",
       "      <td>0</td>\n",
       "      <td>0</td>\n",
       "      <td>0</td>\n",
       "      <td>0</td>\n",
       "      <td>0</td>\n",
       "      <td>0</td>\n",
       "      <td>0</td>\n",
       "      <td>0</td>\n",
       "      <td>0</td>\n",
       "    </tr>\n",
       "  </tbody>\n",
       "</table>\n",
       "</div>"
      ],
      "text/plain": [
       "                                                   anon_ID  assistance_date  \\\n",
       "assistance_category                       unit                                \n",
       "Community                                 Minutes      757              757   \n",
       "ElderNet Office                           Minutes       47               47   \n",
       "Home Visit                                Minutes      766              766   \n",
       "Internal Discussions                      Dollars       10               10   \n",
       "                                          Minutes      222              222   \n",
       "                                          Pounds         1                1   \n",
       "Remote Contact w/o client                 Minutes     1948             1948   \n",
       "Remote Contact with client (phone, email) Minutes     8735             8735   \n",
       "                                          Pounds         1                1   \n",
       "\n",
       "                                                   amount  CommType  Party  \\\n",
       "assistance_category                       unit                               \n",
       "Community                                 Minutes     757       100    101   \n",
       "ElderNet Office                           Minutes      47         2      2   \n",
       "Home Visit                                Minutes     766        24     24   \n",
       "Internal Discussions                      Dollars      10         7      8   \n",
       "                                          Minutes     222       149    168   \n",
       "                                          Pounds        1         1      1   \n",
       "Remote Contact w/o client                 Minutes    1948      1220   1202   \n",
       "Remote Contact with client (phone, email) Minutes    8735      3165   3169   \n",
       "                                          Pounds        1         0      0   \n",
       "\n",
       "                                                   InitiatedBy  Benefit_1  \\\n",
       "assistance_category                       unit                              \n",
       "Community                                 Minutes           90         96   \n",
       "ElderNet Office                           Minutes            2          2   \n",
       "Home Visit                                Minutes           15         22   \n",
       "Internal Discussions                      Dollars            8          8   \n",
       "                                          Minutes          169        157   \n",
       "                                          Pounds             1          1   \n",
       "Remote Contact w/o client                 Minutes         1212       1031   \n",
       "Remote Contact with client (phone, email) Minutes         3148       2743   \n",
       "                                          Pounds             0          0   \n",
       "\n",
       "                                                   Assistance_1  Benefit_2  \\\n",
       "assistance_category                       unit                               \n",
       "Community                                 Minutes            99         27   \n",
       "ElderNet Office                           Minutes             2          0   \n",
       "Home Visit                                Minutes            24          6   \n",
       "Internal Discussions                      Dollars             8          1   \n",
       "                                          Minutes           158         16   \n",
       "                                          Pounds              1          0   \n",
       "Remote Contact w/o client                 Minutes          1064         76   \n",
       "Remote Contact with client (phone, email) Minutes          2770        465   \n",
       "                                          Pounds              0          0   \n",
       "\n",
       "                                                   Assistance_2  Benefit_3  \\\n",
       "assistance_category                       unit                               \n",
       "Community                                 Minutes            27          6   \n",
       "ElderNet Office                           Minutes             0          0   \n",
       "Home Visit                                Minutes             6          2   \n",
       "Internal Discussions                      Dollars             1          0   \n",
       "                                          Minutes            15          1   \n",
       "                                          Pounds              0          0   \n",
       "Remote Contact w/o client                 Minutes            75          4   \n",
       "Remote Contact with client (phone, email) Minutes           464         71   \n",
       "                                          Pounds              0          0   \n",
       "\n",
       "                                                   Assistance_3  \n",
       "assistance_category                       unit                   \n",
       "Community                                 Minutes             6  \n",
       "ElderNet Office                           Minutes             0  \n",
       "Home Visit                                Minutes             2  \n",
       "Internal Discussions                      Dollars             0  \n",
       "                                          Minutes             1  \n",
       "                                          Pounds              0  \n",
       "Remote Contact w/o client                 Minutes             4  \n",
       "Remote Contact with client (phone, email) Minutes            70  \n",
       "                                          Pounds              0  "
      ]
     },
     "execution_count": 11,
     "metadata": {},
     "output_type": "execute_result"
    }
   ],
   "source": [
    "care_mgmt.groupby(['assistance_category', 'unit']).count()"
   ]
  },
  {
   "cell_type": "code",
   "execution_count": 12,
   "metadata": {},
   "outputs": [
    {
     "data": {
      "text/html": [
       "<div>\n",
       "<style scoped>\n",
       "    .dataframe tbody tr th:only-of-type {\n",
       "        vertical-align: middle;\n",
       "    }\n",
       "\n",
       "    .dataframe tbody tr th {\n",
       "        vertical-align: top;\n",
       "    }\n",
       "\n",
       "    .dataframe thead th {\n",
       "        text-align: right;\n",
       "    }\n",
       "</style>\n",
       "<table border=\"1\" class=\"dataframe\">\n",
       "  <thead>\n",
       "    <tr style=\"text-align: right;\">\n",
       "      <th></th>\n",
       "      <th>anon_ID</th>\n",
       "      <th>assistance_date</th>\n",
       "      <th>assistance_category</th>\n",
       "      <th>amount</th>\n",
       "      <th>unit</th>\n",
       "      <th>CommType</th>\n",
       "      <th>Party</th>\n",
       "      <th>InitiatedBy</th>\n",
       "      <th>Benefit_1</th>\n",
       "      <th>Assistance_1</th>\n",
       "      <th>Benefit_2</th>\n",
       "      <th>Assistance_2</th>\n",
       "      <th>Benefit_3</th>\n",
       "      <th>Assistance_3</th>\n",
       "    </tr>\n",
       "  </thead>\n",
       "  <tbody>\n",
       "    <tr>\n",
       "      <th>11922</th>\n",
       "      <td>284</td>\n",
       "      <td>2021-06-01 12:35:00</td>\n",
       "      <td>Remote Contact with client (phone, email)</td>\n",
       "      <td>25.0</td>\n",
       "      <td>Pounds</td>\n",
       "      <td>NaN</td>\n",
       "      <td>NaN</td>\n",
       "      <td>NaN</td>\n",
       "      <td>NaN</td>\n",
       "      <td>NaN</td>\n",
       "      <td>NaN</td>\n",
       "      <td>NaN</td>\n",
       "      <td>NaN</td>\n",
       "      <td>NaN</td>\n",
       "    </tr>\n",
       "  </tbody>\n",
       "</table>\n",
       "</div>"
      ],
      "text/plain": [
       "       anon_ID     assistance_date                        assistance_category  \\\n",
       "11922      284 2021-06-01 12:35:00  Remote Contact with client (phone, email)   \n",
       "\n",
       "       amount    unit CommType Party InitiatedBy Benefit_1 Assistance_1  \\\n",
       "11922    25.0  Pounds      NaN   NaN         NaN       NaN          NaN   \n",
       "\n",
       "      Benefit_2 Assistance_2 Benefit_3 Assistance_3  \n",
       "11922       NaN          NaN       NaN          NaN  "
      ]
     },
     "execution_count": 12,
     "metadata": {},
     "output_type": "execute_result"
    }
   ],
   "source": [
    "# Explore some weird values\n",
    "care_mgmt.loc[(care_mgmt['assistance_category'] == 'Remote Contact with client (phone, email)') & (care_mgmt['unit'] == 'Pounds'),:]"
   ]
  },
  {
   "cell_type": "code",
   "execution_count": 13,
   "metadata": {},
   "outputs": [
    {
     "data": {
      "text/html": [
       "<div>\n",
       "<style scoped>\n",
       "    .dataframe tbody tr th:only-of-type {\n",
       "        vertical-align: middle;\n",
       "    }\n",
       "\n",
       "    .dataframe tbody tr th {\n",
       "        vertical-align: top;\n",
       "    }\n",
       "\n",
       "    .dataframe thead th {\n",
       "        text-align: right;\n",
       "    }\n",
       "</style>\n",
       "<table border=\"1\" class=\"dataframe\">\n",
       "  <thead>\n",
       "    <tr style=\"text-align: right;\">\n",
       "      <th></th>\n",
       "      <th>anon_ID</th>\n",
       "      <th>assistance_date</th>\n",
       "      <th>assistance_category</th>\n",
       "      <th>amount</th>\n",
       "      <th>unit</th>\n",
       "      <th>CommType</th>\n",
       "      <th>Party</th>\n",
       "      <th>InitiatedBy</th>\n",
       "      <th>Benefit_1</th>\n",
       "      <th>Assistance_1</th>\n",
       "      <th>Benefit_2</th>\n",
       "      <th>Assistance_2</th>\n",
       "      <th>Benefit_3</th>\n",
       "      <th>Assistance_3</th>\n",
       "    </tr>\n",
       "  </thead>\n",
       "  <tbody>\n",
       "    <tr>\n",
       "      <th>8226</th>\n",
       "      <td>569</td>\n",
       "      <td>2020-05-27 13:15:00</td>\n",
       "      <td>Internal Discussions</td>\n",
       "      <td>25.0</td>\n",
       "      <td>Pounds</td>\n",
       "      <td>Call</td>\n",
       "      <td>Eldernet</td>\n",
       "      <td>Eldernet</td>\n",
       "      <td>Safety</td>\n",
       "      <td>Coordination</td>\n",
       "      <td>NaN</td>\n",
       "      <td>NaN</td>\n",
       "      <td>NaN</td>\n",
       "      <td>NaN</td>\n",
       "    </tr>\n",
       "  </tbody>\n",
       "</table>\n",
       "</div>"
      ],
      "text/plain": [
       "      anon_ID     assistance_date   assistance_category  amount    unit  \\\n",
       "8226      569 2020-05-27 13:15:00  Internal Discussions    25.0  Pounds   \n",
       "\n",
       "     CommType     Party InitiatedBy Benefit_1  Assistance_1 Benefit_2  \\\n",
       "8226     Call  Eldernet    Eldernet    Safety  Coordination       NaN   \n",
       "\n",
       "     Assistance_2 Benefit_3 Assistance_3  \n",
       "8226          NaN       NaN          NaN  "
      ]
     },
     "execution_count": 13,
     "metadata": {},
     "output_type": "execute_result"
    }
   ],
   "source": [
    "care_mgmt.loc[(care_mgmt['assistance_category'] == 'Internal Discussions') & (care_mgmt['unit'] == 'Pounds'),:]"
   ]
  },
  {
   "cell_type": "code",
   "execution_count": 14,
   "metadata": {},
   "outputs": [],
   "source": [
    "# Clean up values on categorical columns\n",
    "party = {\"Clinet\": \"Client\", \"Eldernet\": \"ElderNet\"}\n",
    "benefit = {\"Eldernet\": \"ElderNet\", \"Pets\": \"Pet\", \"Telecommunications\": \"Telecommunication\", \"Financial \": \"Financial\"}\n",
    "care_mgmt = care_mgmt.replace({\"Party\": party, \"Benefit_1\": benefit, \"Benefit_2\": benefit, \"Benefit_3\": benefit})"
   ]
  },
  {
   "cell_type": "code",
   "execution_count": 15,
   "metadata": {},
   "outputs": [
    {
     "data": {
      "text/plain": [
       "Party\n",
       "Client              3273\n",
       "Service Provider     619\n",
       "Family               279\n",
       "ElderNet             239\n",
       "Other                126\n",
       "Social Worker         84\n",
       "Friend                41\n",
       "Care Manager          12\n",
       "Care Coordinator       2\n",
       "Name: anon_ID, dtype: int64"
      ]
     },
     "execution_count": 15,
     "metadata": {},
     "output_type": "execute_result"
    }
   ],
   "source": [
    "care_mgmt.groupby('Party').count()['anon_ID'].nlargest(9000)"
   ]
  },
  {
   "cell_type": "code",
   "execution_count": 16,
   "metadata": {},
   "outputs": [
    {
     "data": {
      "text/plain": [
       "benefit_category\n",
       "ElderNet             1819\n",
       "Medical               751\n",
       "Housing               662\n",
       "Financial             502\n",
       "Food                  260\n",
       "Legal                 192\n",
       "ADL                   152\n",
       "Utilities             119\n",
       "Social                 91\n",
       "Safety                 75\n",
       "Transportation         67\n",
       "Telecommunication      31\n",
       "Pet                     8\n",
       "Information             3\n",
       "Benefit_1               1\n",
       "Coordination            1\n",
       "Support                 1\n",
       "Name: anon_ID, dtype: int64"
      ]
     },
     "execution_count": 16,
     "metadata": {},
     "output_type": "execute_result"
    }
   ],
   "source": [
    "benefit_all = care_mgmt.loc[:, ['anon_ID', 'Benefit_1', 'Benefit_2', 'Benefit_3']].melt(id_vars='anon_ID', var_name='benefit_ID', value_name='benefit_category')\n",
    "benefit_all.groupby('benefit_category').count()['anon_ID'].nlargest(9000)"
   ]
  },
  {
   "cell_type": "code",
   "execution_count": 17,
   "metadata": {},
   "outputs": [
    {
     "data": {
      "text/html": [
       "<div>\n",
       "<style scoped>\n",
       "    .dataframe tbody tr th:only-of-type {\n",
       "        vertical-align: middle;\n",
       "    }\n",
       "\n",
       "    .dataframe tbody tr th {\n",
       "        vertical-align: top;\n",
       "    }\n",
       "\n",
       "    .dataframe thead th {\n",
       "        text-align: right;\n",
       "    }\n",
       "</style>\n",
       "<table border=\"1\" class=\"dataframe\">\n",
       "  <thead>\n",
       "    <tr style=\"text-align: right;\">\n",
       "      <th></th>\n",
       "      <th>min_date</th>\n",
       "      <th>max_date</th>\n",
       "      <th>engagements</th>\n",
       "      <th>engagement_days</th>\n",
       "    </tr>\n",
       "    <tr>\n",
       "      <th>anon_ID</th>\n",
       "      <th></th>\n",
       "      <th></th>\n",
       "      <th></th>\n",
       "      <th></th>\n",
       "    </tr>\n",
       "  </thead>\n",
       "  <tbody>\n",
       "    <tr>\n",
       "      <th>1</th>\n",
       "      <td>2021-06-22 15:20:00</td>\n",
       "      <td>2021-07-19 14:15:00</td>\n",
       "      <td>2</td>\n",
       "      <td>26</td>\n",
       "    </tr>\n",
       "    <tr>\n",
       "      <th>2</th>\n",
       "      <td>2019-06-04 10:10:00</td>\n",
       "      <td>2020-05-01 16:35:00</td>\n",
       "      <td>3</td>\n",
       "      <td>332</td>\n",
       "    </tr>\n",
       "    <tr>\n",
       "      <th>3</th>\n",
       "      <td>2019-07-17 10:55:00</td>\n",
       "      <td>2020-04-10 16:20:00</td>\n",
       "      <td>4</td>\n",
       "      <td>268</td>\n",
       "    </tr>\n",
       "    <tr>\n",
       "      <th>5</th>\n",
       "      <td>2019-12-26 13:30:00</td>\n",
       "      <td>2020-09-01 15:15:00</td>\n",
       "      <td>3</td>\n",
       "      <td>250</td>\n",
       "    </tr>\n",
       "    <tr>\n",
       "      <th>7</th>\n",
       "      <td>2020-01-02 13:00:00</td>\n",
       "      <td>2020-01-10 15:50:00</td>\n",
       "      <td>3</td>\n",
       "      <td>8</td>\n",
       "    </tr>\n",
       "  </tbody>\n",
       "</table>\n",
       "</div>"
      ],
      "text/plain": [
       "                   min_date            max_date  engagements  engagement_days\n",
       "anon_ID                                                                      \n",
       "1       2021-06-22 15:20:00 2021-07-19 14:15:00            2               26\n",
       "2       2019-06-04 10:10:00 2020-05-01 16:35:00            3              332\n",
       "3       2019-07-17 10:55:00 2020-04-10 16:20:00            4              268\n",
       "5       2019-12-26 13:30:00 2020-09-01 15:15:00            3              250\n",
       "7       2020-01-02 13:00:00 2020-01-10 15:50:00            3                8"
      ]
     },
     "execution_count": 17,
     "metadata": {},
     "output_type": "execute_result"
    }
   ],
   "source": [
    "# Frequency of care management engagement\n",
    "engagement_agg = care_mgmt.groupby('anon_ID')\n",
    "engagement_agg = engagement_agg.agg({'assistance_date': [np.min, np.max, \"count\"]})\n",
    "engagement_agg.columns = ['min_date', 'max_date', 'engagements']\n",
    "engagement_agg['engagement_days'] = (engagement_agg['max_date'] - engagement_agg['min_date']).dt.days\n",
    "engagement_agg.head()"
   ]
  },
  {
   "cell_type": "code",
   "execution_count": 18,
   "metadata": {},
   "outputs": [
    {
     "data": {
      "text/plain": [
       "<matplotlib.axes._subplots.AxesSubplot at 0x24f6f46e640>"
      ]
     },
     "execution_count": 18,
     "metadata": {},
     "output_type": "execute_result"
    },
    {
     "data": {
      "image/png": "[encoded data removed]",
      "text/plain": [
       "<Figure size 432x288 with 1 Axes>"
      ]
     },
     "metadata": {
      "needs_background": "light"
     },
     "output_type": "display_data"
    }
   ],
   "source": [
    "# What's the length from first to last engagement per client?\n",
    "import matplotlib.pyplot as plt\n",
    "%matplotlib inline\n",
    "engagement_agg.boxplot(column='engagement_days')"
   ]
  },
  {
   "cell_type": "code",
   "execution_count": 19,
   "metadata": {},
   "outputs": [
    {
     "data": {
      "text/plain": [
       "<matplotlib.axes._subplots.AxesSubplot at 0x24f6fbbb910>"
      ]
     },
     "execution_count": 19,
     "metadata": {},
     "output_type": "execute_result"
    },
    {
     "data": {
      "image/png": "[encoded data removed]",
      "text/plain": [
       "<Figure size 432x288 with 1 Axes>"
      ]
     },
     "metadata": {
      "needs_background": "light"
     },
     "output_type": "display_data"
    }
   ],
   "source": [
    "# What's the number of engagements a client has?\n",
    "engagement_agg.boxplot(column='engagements')"
   ]
  },
  {
   "cell_type": "code",
   "execution_count": 20,
   "metadata": {},
   "outputs": [
    {
     "data": {
      "text/plain": [
       "<matplotlib.axes._subplots.AxesSubplot at 0x24f6fc18a60>"
      ]
     },
     "execution_count": 20,
     "metadata": {},
     "output_type": "execute_result"
    },
    {
     "data": {
      "image/png": "[encoded data removed]",
      "text/plain": [
       "<Figure size 432x288 with 1 Axes>"
      ]
     },
     "metadata": {
      "needs_background": "light"
     },
     "output_type": "display_data"
    }
   ],
   "source": [
    "# Since there are multiple outliers for this metric, need to replace outlier values with IQR (innter quartile range)\n",
    "def remove_outlier(col):\n",
    "    sorted(col)\n",
    "    q1, q3 = col.quantile([0.25, 0.75])\n",
    "    iqr = q3-q1\n",
    "    lower_range = q1-(1.5 * iqr)\n",
    "    upper_range = q3+(1.5 * iqr)\n",
    "    new_col = col\n",
    "    new_col = np.where(new_col>upper_range, upper_range, new_col)\n",
    "    new_col = np.where(new_col<lower_range, lower_range, new_col)\n",
    "    return new_col\n",
    "#     lower_range, upper_range\n",
    "# lower_days, upper_days = remove_outlier(engagement_agg['engagements'])\n",
    "engagement_agg['engagements_clean'] = remove_outlier(engagement_agg['engagements'])\n",
    "# engagement_agg['engagements_clean'] = np.where(engagement_agg['engagements_clean']>upper_days, upper_days, engagement_agg['engagements_clean'])\n",
    "# engagement_agg['engagements_clean'] = np.where(engagement_agg['engagements_clean']<lower_days, lower_days, engagement_agg['engagements_clean'])\n",
    "engagement_agg.boxplot(column='engagements_clean')"
   ]
  },
  {
   "cell_type": "code",
   "execution_count": 21,
   "metadata": {},
   "outputs": [
    {
     "data": {
      "text/plain": [
       "<matplotlib.axes._subplots.AxesSubplot at 0x24f6fe5d2e0>"
      ]
     },
     "execution_count": 21,
     "metadata": {},
     "output_type": "execute_result"
    },
    {
     "data": {
      "image/png": "[encoded data removed]",
      "text/plain": [
       "<Figure size 432x288 with 1 Axes>"
      ]
     },
     "metadata": {
      "needs_background": "light"
     },
     "output_type": "display_data"
    }
   ],
   "source": [
    "# What's the number of days between 2 consecutive engagements?\n",
    "engagements = care_mgmt.loc[:, ['anon_ID', 'assistance_date']].sort_values(['anon_ID', 'assistance_date'])\n",
    "shifted = engagements.shift(-1).fillna(0)\n",
    "shifted['anon_ID'] = shifted['anon_ID'].astype(int)\n",
    "shifted['Use'] = engagements['anon_ID'] == shifted['anon_ID']\n",
    "engagements['next_assistance_date'] = shifted.apply(lambda x: x['assistance_date'] if x['Use'] else None, axis=1)\n",
    "engagements = engagements.dropna(subset = ['next_assistance_date'])\n",
    "engagements['len_consecutive_engagements'] = (engagements['next_assistance_date'] - engagements['assistance_date']).dt.days\n",
    "engagements.boxplot(column='len_consecutive_engagements')"
   ]
  },
  {
   "cell_type": "code",
   "execution_count": 22,
   "metadata": {},
   "outputs": [
    {
     "data": {
      "text/plain": [
       "<matplotlib.axes._subplots.AxesSubplot at 0x24f6fea1100>"
      ]
     },
     "execution_count": 22,
     "metadata": {},
     "output_type": "execute_result"
    },
    {
     "data": {
      "image/png": "[encoded data removed]",
      "text/plain": [
       "<Figure size 432x288 with 1 Axes>"
      ]
     },
     "metadata": {
      "needs_background": "light"
     },
     "output_type": "display_data"
    }
   ],
   "source": [
    "engagements['len_consecutive_engagements_clean'] = remove_outlier(engagements['len_consecutive_engagements'])\n",
    "engagements.boxplot(column='len_consecutive_engagements_clean')"
   ]
  },
  {
   "cell_type": "code",
   "execution_count": 28,
   "metadata": {},
   "outputs": [],
   "source": [
    "# Check for correlation between different engagement length metrics explored above.\n",
    "# Only consider clients who had at least 2 engagements\n",
    "engagement_agg = engagement_agg.loc[engagement_agg['engagements'] >= 2, :]\n",
    "avg_engagement_len = engagements.groupby('anon_ID').agg({'len_consecutive_engagements': [np.min, np.max, \"mean\", \"median\"],\n",
    "                                                        'len_consecutive_engagements_clean': [np.min, np.max, \"mean\", \"median\"]})\n",
    "avg_engagement_len.columns = ['min_len_consecutive_engagements', \n",
    "                             'max_len_consecutive_engagements', 'mean_len_consecutive_engagements', 'median_len_consecutive_engagements',\n",
    "                             'min_len_consecutive_engagements_clean', 'max_len_consecutive_engagements_clean',\n",
    "                             'mean_len_consecutive_engagements_clean', 'median_len_consecutive_engagements_clean']\n",
    "avg_engagement_len.head()\n",
    "engagement_agg_merged = engagement_agg.merge(avg_engagement_len,\n",
    "                                     how = 'left',\n",
    "                                     on = 'anon_ID')"
   ]
  },
  {
   "cell_type": "code",
   "execution_count": 29,
   "metadata": {},
   "outputs": [
    {
     "data": {
      "text/html": [
       "<div>\n",
       "<style scoped>\n",
       "    .dataframe tbody tr th:only-of-type {\n",
       "        vertical-align: middle;\n",
       "    }\n",
       "\n",
       "    .dataframe tbody tr th {\n",
       "        vertical-align: top;\n",
       "    }\n",
       "\n",
       "    .dataframe thead th {\n",
       "        text-align: right;\n",
       "    }\n",
       "</style>\n",
       "<table border=\"1\" class=\"dataframe\">\n",
       "  <thead>\n",
       "    <tr style=\"text-align: right;\">\n",
       "      <th></th>\n",
       "      <th>min_date</th>\n",
       "      <th>max_date</th>\n",
       "      <th>engagements</th>\n",
       "      <th>engagement_days</th>\n",
       "      <th>engagements_clean</th>\n",
       "      <th>min_len_consecutive_engagements</th>\n",
       "      <th>max_len_consecutive_engagements</th>\n",
       "      <th>mean_len_consecutive_engagements</th>\n",
       "      <th>median_len_consecutive_engagements</th>\n",
       "      <th>min_len_consecutive_engagements_clean</th>\n",
       "      <th>max_len_consecutive_engagements_clean</th>\n",
       "      <th>mean_len_consecutive_engagements_clean</th>\n",
       "      <th>median_len_consecutive_engagements_clean</th>\n",
       "    </tr>\n",
       "    <tr>\n",
       "      <th>anon_ID</th>\n",
       "      <th></th>\n",
       "      <th></th>\n",
       "      <th></th>\n",
       "      <th></th>\n",
       "      <th></th>\n",
       "      <th></th>\n",
       "      <th></th>\n",
       "      <th></th>\n",
       "      <th></th>\n",
       "      <th></th>\n",
       "      <th></th>\n",
       "      <th></th>\n",
       "      <th></th>\n",
       "    </tr>\n",
       "  </thead>\n",
       "  <tbody>\n",
       "    <tr>\n",
       "      <th>1</th>\n",
       "      <td>2021-06-22 15:20:00</td>\n",
       "      <td>2021-07-19 14:15:00</td>\n",
       "      <td>2</td>\n",
       "      <td>26</td>\n",
       "      <td>2.0</td>\n",
       "      <td>26</td>\n",
       "      <td>26</td>\n",
       "      <td>26.0</td>\n",
       "      <td>26.0</td>\n",
       "      <td>17.5</td>\n",
       "      <td>17.5</td>\n",
       "      <td>17.5</td>\n",
       "      <td>17.5</td>\n",
       "    </tr>\n",
       "    <tr>\n",
       "      <th>2</th>\n",
       "      <td>2019-06-04 10:10:00</td>\n",
       "      <td>2020-05-01 16:35:00</td>\n",
       "      <td>3</td>\n",
       "      <td>332</td>\n",
       "      <td>3.0</td>\n",
       "      <td>95</td>\n",
       "      <td>237</td>\n",
       "      <td>166.0</td>\n",
       "      <td>166.0</td>\n",
       "      <td>17.5</td>\n",
       "      <td>17.5</td>\n",
       "      <td>17.5</td>\n",
       "      <td>17.5</td>\n",
       "    </tr>\n",
       "    <tr>\n",
       "      <th>3</th>\n",
       "      <td>2019-07-17 10:55:00</td>\n",
       "      <td>2020-04-10 16:20:00</td>\n",
       "      <td>4</td>\n",
       "      <td>268</td>\n",
       "      <td>4.0</td>\n",
       "      <td>0</td>\n",
       "      <td>259</td>\n",
       "      <td>89.0</td>\n",
       "      <td>8.0</td>\n",
       "      <td>0.0</td>\n",
       "      <td>17.5</td>\n",
       "      <td>8.5</td>\n",
       "      <td>8.0</td>\n",
       "    </tr>\n",
       "    <tr>\n",
       "      <th>5</th>\n",
       "      <td>2019-12-26 13:30:00</td>\n",
       "      <td>2020-09-01 15:15:00</td>\n",
       "      <td>3</td>\n",
       "      <td>250</td>\n",
       "      <td>3.0</td>\n",
       "      <td>109</td>\n",
       "      <td>140</td>\n",
       "      <td>124.5</td>\n",
       "      <td>124.5</td>\n",
       "      <td>17.5</td>\n",
       "      <td>17.5</td>\n",
       "      <td>17.5</td>\n",
       "      <td>17.5</td>\n",
       "    </tr>\n",
       "    <tr>\n",
       "      <th>7</th>\n",
       "      <td>2020-01-02 13:00:00</td>\n",
       "      <td>2020-01-10 15:50:00</td>\n",
       "      <td>3</td>\n",
       "      <td>8</td>\n",
       "      <td>3.0</td>\n",
       "      <td>0</td>\n",
       "      <td>7</td>\n",
       "      <td>3.5</td>\n",
       "      <td>3.5</td>\n",
       "      <td>0.0</td>\n",
       "      <td>7.0</td>\n",
       "      <td>3.5</td>\n",
       "      <td>3.5</td>\n",
       "    </tr>\n",
       "  </tbody>\n",
       "</table>\n",
       "</div>"
      ],
      "text/plain": [
       "                   min_date            max_date  engagements  engagement_days  \\\n",
       "anon_ID                                                                         \n",
       "1       2021-06-22 15:20:00 2021-07-19 14:15:00            2               26   \n",
       "2       2019-06-04 10:10:00 2020-05-01 16:35:00            3              332   \n",
       "3       2019-07-17 10:55:00 2020-04-10 16:20:00            4              268   \n",
       "5       2019-12-26 13:30:00 2020-09-01 15:15:00            3              250   \n",
       "7       2020-01-02 13:00:00 2020-01-10 15:50:00            3                8   \n",
       "\n",
       "         engagements_clean  min_len_consecutive_engagements  \\\n",
       "anon_ID                                                       \n",
       "1                      2.0                               26   \n",
       "2                      3.0                               95   \n",
       "3                      4.0                                0   \n",
       "5                      3.0                              109   \n",
       "7                      3.0                                0   \n",
       "\n",
       "         max_len_consecutive_engagements  mean_len_consecutive_engagements  \\\n",
       "anon_ID                                                                      \n",
       "1                                     26                              26.0   \n",
       "2                                    237                             166.0   \n",
       "3                                    259                              89.0   \n",
       "5                                    140                             124.5   \n",
       "7                                      7                               3.5   \n",
       "\n",
       "         median_len_consecutive_engagements  \\\n",
       "anon_ID                                       \n",
       "1                                      26.0   \n",
       "2                                     166.0   \n",
       "3                                       8.0   \n",
       "5                                     124.5   \n",
       "7                                       3.5   \n",
       "\n",
       "         min_len_consecutive_engagements_clean  \\\n",
       "anon_ID                                          \n",
       "1                                         17.5   \n",
       "2                                         17.5   \n",
       "3                                          0.0   \n",
       "5                                         17.5   \n",
       "7                                          0.0   \n",
       "\n",
       "         max_len_consecutive_engagements_clean  \\\n",
       "anon_ID                                          \n",
       "1                                         17.5   \n",
       "2                                         17.5   \n",
       "3                                         17.5   \n",
       "5                                         17.5   \n",
       "7                                          7.0   \n",
       "\n",
       "         mean_len_consecutive_engagements_clean  \\\n",
       "anon_ID                                           \n",
       "1                                          17.5   \n",
       "2                                          17.5   \n",
       "3                                           8.5   \n",
       "5                                          17.5   \n",
       "7                                           3.5   \n",
       "\n",
       "         median_len_consecutive_engagements_clean  \n",
       "anon_ID                                            \n",
       "1                                            17.5  \n",
       "2                                            17.5  \n",
       "3                                             8.0  \n",
       "5                                            17.5  \n",
       "7                                             3.5  "
      ]
     },
     "execution_count": 29,
     "metadata": {},
     "output_type": "execute_result"
    }
   ],
   "source": [
    "engagement_agg_merged.head()"
   ]
  },
  {
   "cell_type": "code",
   "execution_count": 34,
   "metadata": {},
   "outputs": [
    {
     "data": {
      "text/plain": [
       "<matplotlib.collections.PathCollection at 0x24f712ef940>"
      ]
     },
     "execution_count": 34,
     "metadata": {},
     "output_type": "execute_result"
    },
    {
     "data": {
      "image/png": "[encoded data removed]",
      "text/plain": [
       "<Figure size 432x288 with 1 Axes>"
      ]
     },
     "metadata": {
      "needs_background": "light"
     },
     "output_type": "display_data"
    }
   ],
   "source": [
    "# Is there any correlation between length of consecutive engagements and the overall engagement length from first to last day?\n",
    "# i.e If a client is frequently engaged (not too many days between consecutive engagements), does that reduces the overall engagement length?\n",
    "plt.scatter(engagement_agg_merged['median_len_consecutive_engagements'], engagement_agg_merged['engagement_days'])"
   ]
  },
  {
   "cell_type": "markdown",
   "metadata": {},
   "source": [
    "Can see 3 different categories here. Are there any special patterns that can help us categorize clients or is this just random?"
   ]
  },
  {
   "cell_type": "code",
   "execution_count": 38,
   "metadata": {},
   "outputs": [
    {
     "data": {
      "text/plain": [
       "<matplotlib.collections.PathCollection at 0x24f6fe89a90>"
      ]
     },
     "execution_count": 38,
     "metadata": {},
     "output_type": "execute_result"
    },
    {
     "data": {
      "image/png": "[encoded data removed]",
      "text/plain": [
       "<Figure size 432x288 with 1 Axes>"
      ]
     },
     "metadata": {
      "needs_background": "light"
     },
     "output_type": "display_data"
    }
   ],
   "source": [
    "# Is there any correlation between length of consecutive engagements and the overall number of engagements?\n",
    "# i.e If a client is frequently engaged, does that reduces number of engagements required?\n",
    "plt.scatter(engagement_agg_merged['median_len_consecutive_engagements'], engagement_agg_merged['engagements'])"
   ]
  },
  {
   "cell_type": "code",
   "execution_count": 39,
   "metadata": {},
   "outputs": [],
   "source": [
    "# Add categorical columns, one for each benefit type as the count for that benefit category (ex: ElderNet: 20), and the benefit category that the client utilizes the most\n",
    "# Find common characteristics among the clients who have a high number of engagements\n",
    "# Do they start off with the same benefit type inquiry?"
   ]
  },
  {
   "cell_type": "markdown",
   "metadata": {},
   "source": [
    "Note: Client-profiling dashboard? What has been discussed with this specific client in the past? What are the things clients like this potentially will need in the future (using machine learning)\n",
    "\n",
    "Challenges with ElderNet"
   ]
  },
  {
   "cell_type": "code",
   "execution_count": null,
   "metadata": {},
   "outputs": [],
   "source": []
  }
 ],
 "metadata": {
  "kernelspec": {
   "display_name": "Python 3",
   "language": "python",
   "name": "python3"
  },
  "language_info": {
   "codemirror_mode": {
    "name": "ipython",
    "version": 3
   },
   "file_extension": ".py",
   "mimetype": "text/x-python",
   "name": "python",
   "nbconvert_exporter": "python",
   "pygments_lexer": "ipython3",
   "version": "3.8.3"
  }
 },
 "nbformat": 4,
 "nbformat_minor": 4
}
